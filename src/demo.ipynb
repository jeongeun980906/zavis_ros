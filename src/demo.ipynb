{
 "cells": [
  {
   "cell_type": "code",
   "execution_count": 2,
   "metadata": {},
   "outputs": [],
   "source": [
    "import sys\n",
    "sys.path.insert(0, '/home/rilab/catkin_ws/src/zavis_ros/osod')\n",
    "\n",
    "import cv2\n",
    "import torch\n",
    "import copy\n",
    "import matplotlib.pyplot as plt\n",
    "from matplotlib.patches import Rectangle\n",
    "import seaborn as sns\n",
    "\n",
    "from det.loader import load_det\n",
    "from det.matcher import matcher\n",
    "from det.postprocess import post_process,plot,VOC_CLASS_NAMES,CLASS_NAME_NEW"
   ]
  },
  {
   "cell_type": "code",
   "execution_count": 3,
   "metadata": {},
   "outputs": [
    {
     "name": "stderr",
     "output_type": "stream",
     "text": [
      "/home/rilab/catkin_ws/src/zavis_ros/osod/model/rpn/rpn.py:43: UserWarning: nn.init.normal is now deprecated in favor of nn.init.normal_.\n",
      "  nn.init.normal(layers.weight,std=0.01)\n",
      "/home/rilab/catkin_ws/src/zavis_ros/osod/model/rpn/rpn.py:44: UserWarning: nn.init.normal is now deprecated in favor of nn.init.normal_.\n",
      "  nn.init.normal(layers.bias,0)\n"
     ]
    }
   ],
   "source": [
    "predictor = load_det()\n",
    "clip = matcher(threshold=30)\n"
   ]
  },
  {
   "cell_type": "code",
   "execution_count": 9,
   "metadata": {},
   "outputs": [],
   "source": [
    "img_files = ['../examples/book_2.jpg','../examples/alarm_clock_1.jpg','../examples/coffee_cup_1.jpg']#,'../examples/food_3.jpg']\n",
    "NAME_SETS = [['book','red book','trash can'],['redbull','alarmclock','glasses'],['cup','ipod','book']]#,['orange juice','mug cup','cake']]\n",
    "\n",
    "VOC_COLORS = sns.color_palette('hls', len(CLASS_NAME_NEW)+1)\n",
    "CLIP_COLORS = sns.color_palette('Set2', len(NAME_SETS)*len(NAME_SETS[0]))"
   ]
  },
  {
   "cell_type": "code",
   "execution_count": 12,
   "metadata": {},
   "outputs": [
    {
     "name": "stdout",
     "output_type": "stream",
     "text": [
      "0\n",
      "1\n",
      "2\n"
     ]
    }
   ],
   "source": [
    "fig = plt.figure(figsize=(15,7))\n",
    "for i, (img_file, NAME_SET) in enumerate(zip(img_files,NAME_SETS)):\n",
    "    print(i)\n",
    "    img = cv2.imread(img_file)\n",
    "\n",
    "\n",
    "    pred = predictor(img)\n",
    "    pred = pred['instances']._fields\n",
    "\n",
    "    pred_boxes = pred['pred_boxes']\n",
    "    scores = pred['scores']\n",
    "    pred_classes = pred['pred_classes']\n",
    "    # print(pred_classes)\n",
    "    index = torch.where(scores>0.3)[0]\n",
    "\n",
    "    top_pred_boxes = pred_boxes[index]\n",
    "    top_pred_classes = pred_classes[index]\n",
    "\n",
    "\n",
    "    osod_image = copy.deepcopy(img)\n",
    "    osod_image = cv2.cvtColor(osod_image, cv2.COLOR_RGB2BGR)\n",
    "    plt.subplot(len(img_files),len(NAME_SET)+1,(len(NAME_SET)+1)*i+1)\n",
    "    # plt.title(\"OpenSet\")\n",
    "    plt.imshow(osod_image)\n",
    "    plt.axis('off')\n",
    "    for bbox,label in zip(top_pred_boxes,top_pred_classes):\n",
    "        if label==20:\n",
    "            color = (0,255,255)\n",
    "        else:\n",
    "            color = (255,0,0)\n",
    "        x1 = int(bbox[0])\n",
    "        y1 = int(bbox[1])\n",
    "        x2 = int(bbox[2])\n",
    "        y2 = int(bbox[3])\n",
    "        # cv2.rectangle(osod_image, (int(bbox[0]), int(bbox[1])), \n",
    "        #                     (int(bbox[2]),int(bbox[3])), color, 5)\n",
    "        # cv2.putText(osod_image, CLASS_NAME_NEW[int(label)], \n",
    "        #                         (int(bbox[0]), int(bbox[1])),\n",
    "        #                 cv2.FONT_HERSHEY_SIMPLEX, 2, (255, 255, 255), 3)\n",
    "        plt.gca().add_patch(Rectangle((x1, y1), x2 - x1, y2 - y1,\n",
    "                                    linewidth=2, edgecolor=VOC_COLORS[label], facecolor='none'))\n",
    "        plt.text(x1 + 3, y1 + 3, CLASS_NAME_NEW[label],\n",
    "                bbox=dict(facecolor=VOC_COLORS[label], alpha=0.5), fontsize=15, color='k')\n",
    "    \n",
    "\n",
    "    for e,NAME in enumerate(NAME_SET):\n",
    "        clip.tokenize(NAME)\n",
    "        clip.thres = 30\n",
    "        color = (255,100,0)\n",
    "        mask = top_pred_classes == 20\n",
    "        score, match_box, _ = clip.matching_score(img,top_pred_boxes[mask])\n",
    "\n",
    "        clip_image = copy.deepcopy(img)\n",
    "        clip_image = cv2.cvtColor(clip_image, cv2.COLOR_RGB2BGR)\n",
    "        plt.subplot(len(img_files),len(NAME_SET)+1,(len(NAME_SET)+1)*i+2+e)\n",
    "        # plt.title(NAME)\n",
    "        plt.imshow(clip_image)\n",
    "        plt.axis('off')\n",
    "        for s, bbox in zip(score,match_box):\n",
    "            x1 = int(bbox[0])\n",
    "            y1 = int(bbox[1])\n",
    "            x2 = int(bbox[2])\n",
    "            y2 = int(bbox[3])\n",
    "            plt.gca().add_patch(Rectangle((x1, y1), x2 - x1, y2 - y1,\n",
    "                                        linewidth=2, edgecolor=CLIP_COLORS[e+3*i], facecolor='none'))\n",
    "            plt.text(x1 + 3, y1 + 3, NAME,\n",
    "                bbox=dict(facecolor=CLIP_COLORS[e+3*i], alpha=0.5), fontsize=15, color='k')\n",
    "        \n",
    "\n",
    "plt.tight_layout()\n",
    "fig.patch.set_visible(False)\n",
    "plt.show()"
   ]
  },
  {
   "cell_type": "code",
   "execution_count": null,
   "metadata": {},
   "outputs": [],
   "source": []
  },
  {
   "cell_type": "code",
   "execution_count": null,
   "metadata": {},
   "outputs": [],
   "source": []
  }
 ],
 "metadata": {
  "kernelspec": {
   "display_name": "Python 3.6.9 64-bit",
   "language": "python",
   "name": "python3"
  },
  "language_info": {
   "codemirror_mode": {
    "name": "ipython",
    "version": 3
   },
   "file_extension": ".py",
   "mimetype": "text/x-python",
   "name": "python",
   "nbconvert_exporter": "python",
   "pygments_lexer": "ipython3",
   "version": "3.8.10"
  },
  "orig_nbformat": 4,
  "vscode": {
   "interpreter": {
    "hash": "31f2aee4e71d21fbe5cf8b01ff0e069b9275f58929596ceb00d14d90e3e16cd6"
   }
  }
 },
 "nbformat": 4,
 "nbformat_minor": 2
}
